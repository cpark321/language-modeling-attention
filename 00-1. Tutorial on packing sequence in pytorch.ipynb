{
 "cells": [
  {
   "cell_type": "markdown",
   "metadata": {},
   "source": [
    "### pad_packed example"
   ]
  },
  {
   "cell_type": "code",
   "execution_count": 1,
   "metadata": {},
   "outputs": [],
   "source": [
    "%matplotlib inline\n",
    "import numpy as np\n",
    "import torch\n",
    "import torch.nn as nn\n",
    "import torch.nn.functional as F\n",
    "\n",
    "from torch.nn.utils.rnn import pack_padded_sequence, pad_packed_sequence"
   ]
  },
  {
   "cell_type": "code",
   "execution_count": 2,
   "metadata": {},
   "outputs": [],
   "source": [
    "from torch.nn import Embedding, LSTM\n",
    "from torch.autograd import Variable"
   ]
  },
  {
   "cell_type": "code",
   "execution_count": 3,
   "metadata": {},
   "outputs": [],
   "source": [
    "seqs = ['long_str',  # len = 8\n",
    "        'tiny',      # len = 4\n",
    "        'medium']    # len = 6"
   ]
  },
  {
   "cell_type": "code",
   "execution_count": 4,
   "metadata": {},
   "outputs": [
    {
     "name": "stdout",
     "output_type": "stream",
     "text": [
      "['<pad>', '_', 'd', 'e', 'g', 'i', 'l', 'm', 'n', 'o', 'r', 's', 't', 'u', 'y']\n"
     ]
    }
   ],
   "source": [
    "## Step 1: Construct Vocabulary ##\n",
    "\n",
    "# make sure <pad> idx is 0\n",
    "vocab = ['<pad>'] + sorted(set([char for seq in seqs for char in seq]))\n",
    "print(vocab)"
   ]
  },
  {
   "cell_type": "code",
   "execution_count": 5,
   "metadata": {},
   "outputs": [],
   "source": [
    "vectorized_seqs = [[vocab.index(tok) for tok in seq]for seq in seqs]"
   ]
  },
  {
   "cell_type": "code",
   "execution_count": 6,
   "metadata": {},
   "outputs": [
    {
     "name": "stdout",
     "output_type": "stream",
     "text": [
      "[6, 9, 8, 4, 1, 11, 12, 10]\n",
      "[12, 5, 8, 14]\n",
      "[7, 3, 2, 5, 13, 7]\n"
     ]
    }
   ],
   "source": [
    "print(vectorized_seqs[0])\n",
    "print(vectorized_seqs[1])\n",
    "print(vectorized_seqs[2])"
   ]
  },
  {
   "cell_type": "code",
   "execution_count": 7,
   "metadata": {},
   "outputs": [],
   "source": [
    "embed = Embedding(len(vocab), 4) # embedding_dim = 4"
   ]
  },
  {
   "cell_type": "code",
   "execution_count": 8,
   "metadata": {},
   "outputs": [],
   "source": [
    "lstm = LSTM(input_size=4, hidden_size=5, batch_first=True)"
   ]
  },
  {
   "cell_type": "code",
   "execution_count": 9,
   "metadata": {},
   "outputs": [],
   "source": [
    "## Step 4: Pad instances with 0s  ##\n",
    "seq_lengths = torch.LongTensor(list(map(len, vectorized_seqs)))\n",
    "seq_tensor = Variable(torch.zeros((len(vectorized_seqs), seq_lengths.max()))).long()\n",
    "for idx, (seq, seqlen) in enumerate(zip(vectorized_seqs, seq_lengths)):\n",
    "    seq_tensor[idx, :seqlen] = torch.LongTensor(seq)"
   ]
  },
  {
   "cell_type": "code",
   "execution_count": 10,
   "metadata": {},
   "outputs": [
    {
     "name": "stdout",
     "output_type": "stream",
     "text": [
      "tensor([ 6,  9,  8,  4,  1, 11, 12, 10])\n",
      "tensor([12,  5,  8, 14,  0,  0,  0,  0])\n",
      "tensor([ 7,  3,  2,  5, 13,  7,  0,  0])\n"
     ]
    }
   ],
   "source": [
    "print(seq_tensor[0])\n",
    "print(seq_tensor[1])\n",
    "print(seq_tensor[2])"
   ]
  },
  {
   "cell_type": "code",
   "execution_count": 11,
   "metadata": {},
   "outputs": [
    {
     "name": "stdout",
     "output_type": "stream",
     "text": [
      "tensor([ 6,  9,  8,  4,  1, 11, 12, 10])\n",
      "tensor([ 7,  3,  2,  5, 13,  7,  0,  0])\n",
      "tensor([12,  5,  8, 14,  0,  0,  0,  0])\n"
     ]
    }
   ],
   "source": [
    "## Step 5: Sort instances by sequence length\n",
    "seq_lengths, perm_idx = seq_lengths.sort(0, descending=True)\n",
    "seq_tensor = seq_tensor[perm_idx]\n",
    "\n",
    "print(seq_tensor[0])\n",
    "print(seq_tensor[1])\n",
    "print(seq_tensor[2])"
   ]
  },
  {
   "cell_type": "code",
   "execution_count": 12,
   "metadata": {
    "scrolled": true
   },
   "outputs": [
    {
     "name": "stdout",
     "output_type": "stream",
     "text": [
      "torch.Size([3, 8, 4])\n"
     ]
    }
   ],
   "source": [
    "## Step 6: Embed the instances ##\n",
    "\n",
    "embedded_seq_tensor = embed(seq_tensor)\n",
    "print(embedded_seq_tensor.shape)"
   ]
  },
  {
   "cell_type": "markdown",
   "metadata": {},
   "source": [
    "```\n",
    "embedded_seq_tensor =>\n",
    "                      [[[-0.77578706 -1.8080667  -1.1168439   1.1059115 ]     l\n",
    "                        [-0.23622951  2.0361056   0.15435742 -0.04513785]     o\n",
    "                        [-0.6000342   1.1732816   0.19938554 -1.5976517 ]     n\n",
    "                        [ 0.40524676  0.98665565 -0.08621677 -1.1728264 ]     g\n",
    "                        [-1.6334635  -0.6100042   1.7509955  -1.931793  ]     _\n",
    "                        [-0.6470658  -0.6266589  -1.7463604   1.2675372 ]     s\n",
    "                        [ 0.64004815  0.45813003  0.3476034  -0.03451729]     t\n",
    "                        [-0.22739866 -0.45782727 -0.6643252   0.25129375]]    r\n",
    "\n",
    "                       [[ 0.16031227 -0.08209462 -0.16297023  0.48121014]     m\n",
    "                        [-0.7303265  -0.857339    0.58913064 -1.1068314 ]     e\n",
    "                        [ 0.48159844 -1.4886451   0.92639893  0.76906884]     d\n",
    "                        [ 0.27616557 -1.224429   -1.342848   -0.7495876 ]     i\n",
    "                        [ 0.01795524 -0.59048957 -0.53800726 -0.6611691 ]     u\n",
    "                        [ 0.16031227 -0.08209462 -0.16297023  0.48121014]     m\n",
    "                        [ 0.2691206  -0.43435425  0.87935454 -2.2269666 ]     <pad>\n",
    "                        [ 0.2691206  -0.43435425  0.87935454 -2.2269666 ]]    <pad>\n",
    "\n",
    "                       [[ 0.64004815  0.45813003  0.3476034  -0.03451729]     t\n",
    "                        [ 0.27616557 -1.224429   -1.342848   -0.7495876 ]     i\n",
    "                        [-0.6000342   1.1732816   0.19938554 -1.5976517 ]     n\n",
    "                        [-1.284392    0.68294704  1.4064184  -0.42879772]     y\n",
    "                        [ 0.2691206  -0.43435425  0.87935454 -2.2269666 ]     <pad>\n",
    "                        [ 0.2691206  -0.43435425  0.87935454 -2.2269666 ]     <pad>\n",
    "                        [ 0.2691206  -0.43435425  0.87935454 -2.2269666 ]     <pad>\n",
    "                        [ 0.2691206  -0.43435425  0.87935454 -2.2269666 ]]]   <pad>\n",
    "embedded_seq_tensor.shape : (batch_size X max_seq_len X embedding_dim) = (3 X 8 X 4)\n",
    "```"
   ]
  },
  {
   "cell_type": "code",
   "execution_count": 13,
   "metadata": {},
   "outputs": [],
   "source": [
    "packed_input = pack_padded_sequence(embedded_seq_tensor, seq_lengths.cpu().numpy(), batch_first=True)"
   ]
  },
  {
   "cell_type": "markdown",
   "metadata": {},
   "source": [
    "```\n",
    "packed_input (PackedSequence is NamedTuple with 2 attributes: data and batch_sizes\n",
    "\n",
    "packed_input.data =>\n",
    "                        [[-0.77578706 -1.8080667  -1.1168439   1.1059115 ]     l\n",
    "                         [ 0.01795524 -0.59048957 -0.53800726 -0.6611691 ]     m\n",
    "                         [-0.6470658  -0.6266589  -1.7463604   1.2675372 ]     t\n",
    "                         [ 0.16031227 -0.08209462 -0.16297023  0.48121014]     o\n",
    "                         [ 0.40524676  0.98665565 -0.08621677 -1.1728264 ]     e\n",
    "                         [-1.284392    0.68294704  1.4064184  -0.42879772]     i\n",
    "                         [ 0.64004815  0.45813003  0.3476034  -0.03451729]     n\n",
    "                         [ 0.27616557 -1.224429   -1.342848   -0.7495876 ]     d\n",
    "                         [ 0.64004815  0.45813003  0.3476034  -0.03451729]     n\n",
    "                         [-0.23622951  2.0361056   0.15435742 -0.04513785]     g\n",
    "                         [ 0.16031227 -0.08209462 -0.16297023  0.48121014]     i\n",
    "                         [-0.22739866 -0.45782727 -0.6643252   0.25129375]]    y\n",
    "                         [-0.7303265  -0.857339    0.58913064 -1.1068314 ]     _\n",
    "                         [-1.6334635  -0.6100042   1.7509955  -1.931793  ]     u\n",
    "                         [ 0.27616557 -1.224429   -1.342848   -0.7495876 ]     s\n",
    "                         [-0.6000342   1.1732816   0.19938554 -1.5976517 ]     m\n",
    "                         [-0.6000342   1.1732816   0.19938554 -1.5976517 ]     t\n",
    "                         [ 0.48159844 -1.4886451   0.92639893  0.76906884]     r\n",
    "packed_input.data.shape : (batch_sum_seq_len X embedding_dim) = (18 X 4)\n",
    "```"
   ]
  },
  {
   "attachments": {
    "image.png": {
     "image/png": "[encoded data removed]"
    }
   },
   "cell_type": "markdown",
   "metadata": {},
   "source": [
    "<img src=attachment:image.png width=600>"
   ]
  },
  {
   "cell_type": "markdown",
   "metadata": {},
   "source": [
    "- 원래 zero padding 포함 6x5 계산했어야 한 거를 padding 제외하고 (깔끔하게) 실제 토큰 개수 18번 계산으로 해주는 것"
   ]
  },
  {
   "cell_type": "code",
   "execution_count": 14,
   "metadata": {},
   "outputs": [],
   "source": [
    "packed_output, (ht, ct) = lstm(packed_input)"
   ]
  },
  {
   "cell_type": "code",
   "execution_count": 15,
   "metadata": {},
   "outputs": [
    {
     "data": {
      "text/plain": [
       "torch.Size([18, 5])"
      ]
     },
     "execution_count": 15,
     "metadata": {},
     "output_type": "execute_result"
    }
   ],
   "source": [
    "packed_output.data.shape"
   ]
  },
  {
   "cell_type": "code",
   "execution_count": 16,
   "metadata": {},
   "outputs": [
    {
     "name": "stdout",
     "output_type": "stream",
     "text": [
      "torch.Size([3, 8, 5])\n"
     ]
    }
   ],
   "source": [
    "# 다시 padded 되어 있던 형태로 복귀\n",
    "output, input_sizes = pad_packed_sequence(packed_output, batch_first=True)\n",
    "print(output.shape)"
   ]
  },
  {
   "cell_type": "code",
   "execution_count": null,
   "metadata": {},
   "outputs": [],
   "source": []
  }
 ],
 "metadata": {
  "kernelspec": {
   "display_name": "Python [conda env:torch] *",
   "language": "python",
   "name": "conda-env-torch-py"
  },
  "language_info": {
   "codemirror_mode": {
    "name": "ipython",
    "version": 3
   },
   "file_extension": ".py",
   "mimetype": "text/x-python",
   "name": "python",
   "nbconvert_exporter": "python",
   "pygments_lexer": "ipython3",
   "version": "3.6.8"
  }
 },
 "nbformat": 4,
 "nbformat_minor": 2
}
